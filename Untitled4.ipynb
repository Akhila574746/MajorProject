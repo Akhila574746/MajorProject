{
  "nbformat": 4,
  "nbformat_minor": 0,
  "metadata": {
    "colab": {
      "provenance": [],
      "authorship_tag": "ABX9TyPmml4gv58GcnbgXxNK84JV",
      "include_colab_link": true
    },
    "kernelspec": {
      "name": "python3",
      "display_name": "Python 3"
    },
    "language_info": {
      "name": "python"
    }
  },
  "cells": [
    {
      "cell_type": "markdown",
      "metadata": {
        "id": "view-in-github",
        "colab_type": "text"
      },
      "source": [
        "<a href=\"https://colab.research.google.com/github/Akhila574746/MajorProject/blob/main/Untitled4.ipynb\" target=\"_parent\"><img src=\"https://colab.research.google.com/assets/colab-badge.svg\" alt=\"Open In Colab\"/></a>"
      ]
    },
    {
      "cell_type": "code",
      "execution_count": null,
      "metadata": {
        "id": "_oGCI6x3J5dV"
      },
      "outputs": [],
      "source": [
        "#CHECKERS BOARD\n",
        "\n",
        "import numpy as np\n",
        "import cv2\n",
        "\n",
        "img = np.zeros((800,800,3))\n",
        "img[0:100,0:100]=255,255,255\n",
        "img[200:300,0:100]=255,255,255\n",
        "img[400:500,0:100]=255,255,255\n",
        "img[600:700,0:100]=255,255,255\n",
        "\n",
        "img[100:200,100:200]=255,255,255\n",
        "img[300:400,100:200]=255,255,255\n",
        "img[500:600,100:200]=255,255,255\n",
        "img[700:800,100:200]=255,255,255\n",
        "\n",
        "img[0:100,200:300]=255,255,255\n",
        "img[200:300,200:300]=255,255,255\n",
        "img[400:500,200:300]=255,255,255\n",
        "img[600:700,200:300]=255,255,255\n",
        "\n",
        "img[100:200,300:400]=255,255,255\n",
        "img[300:400,300:400]=255,255,255\n",
        "img[500:600,300:400]=255,255,255\n",
        "img[700:800,300:400]=255,255,255\n",
        "\n",
        "img[0:100,400:500]=255,255,255\n",
        "img[200:300,400:500]=255,255,255\n",
        "img[400:500,400:500]=255,255,255\n",
        "img[600:700,400:500]=255,255,255\n",
        "\n",
        "img[100:200,500:600]=255,255,255\n",
        "img[300:400,500:600]=255,255,255\n",
        "img[500:600,500:600]=255,255,255\n",
        "img[700:800,500:600]=255,255,255\n",
        "\n",
        "img[0:100,600:700]=255,255,255\n",
        "img[200:300,600:700]=255,255,255\n",
        "img[400:500,600:700]=255,255,255\n",
        "img[600:700,600:700]=255,255,255\n",
        "\n",
        "img[100:200,700:800]=255,255,255\n",
        "img[300:400,700:800]=255,255,255\n",
        "img[500:600,700:800]=255,255,255\n",
        "img[700:800,700:800]=255,255,255\n",
        "\n",
        "cv2.imshow('Checkers Board',img)\n",
        "cv2.waitKey(0)\n",
        "cv2.destroyAllwindows()"
      ]
    }
  ]
}